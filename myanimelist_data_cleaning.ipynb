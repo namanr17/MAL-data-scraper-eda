{
 "cells": [
  {
   "cell_type": "code",
   "execution_count": 1,
   "id": "ad994896",
   "metadata": {},
   "outputs": [],
   "source": [
    "import pandas as pd\n",
    "import numpy as np"
   ]
  },
  {
   "cell_type": "code",
   "execution_count": 2,
   "id": "6e4fe622",
   "metadata": {},
   "outputs": [
    {
     "data": {
      "text/plain": [
       "(19125, 23)"
      ]
     },
     "execution_count": 2,
     "metadata": {},
     "output_type": "execute_result"
    }
   ],
   "source": [
    "anime=pd.read_csv('./Datasets/anime-info-main.csv', sep=';')\n",
    "anime.shape"
   ]
  },
  {
   "cell_type": "code",
   "execution_count": 5,
   "id": "98f3bd66",
   "metadata": {
    "scrolled": true
   },
   "outputs": [
    {
     "data": {
      "text/html": [
       "<div>\n",
       "<style scoped>\n",
       "    .dataframe tbody tr th:only-of-type {\n",
       "        vertical-align: middle;\n",
       "    }\n",
       "\n",
       "    .dataframe tbody tr th {\n",
       "        vertical-align: top;\n",
       "    }\n",
       "\n",
       "    .dataframe thead th {\n",
       "        text-align: right;\n",
       "    }\n",
       "</style>\n",
       "<table border=\"1\" class=\"dataframe\">\n",
       "  <thead>\n",
       "    <tr style=\"text-align: right;\">\n",
       "      <th></th>\n",
       "      <th>anime_id</th>\n",
       "      <th>Title</th>\n",
       "      <th>Synonyms</th>\n",
       "      <th>Type</th>\n",
       "      <th>Episodes</th>\n",
       "      <th>Status</th>\n",
       "      <th>Aired</th>\n",
       "      <th>Premiered</th>\n",
       "      <th>Broadcast</th>\n",
       "      <th>Producers</th>\n",
       "      <th>...</th>\n",
       "      <th>Genres</th>\n",
       "      <th>Themes</th>\n",
       "      <th>Demographic</th>\n",
       "      <th>Duration</th>\n",
       "      <th>Rating</th>\n",
       "      <th>Score</th>\n",
       "      <th>Ranked</th>\n",
       "      <th>Popularity</th>\n",
       "      <th>Members</th>\n",
       "      <th>Favorites</th>\n",
       "    </tr>\n",
       "  </thead>\n",
       "  <tbody>\n",
       "    <tr>\n",
       "      <th>14615</th>\n",
       "      <td>32593</td>\n",
       "      <td>The Snack World</td>\n",
       "      <td>The Snack World Eiga, The Snack World Movie</td>\n",
       "      <td>Movie</td>\n",
       "      <td>1</td>\n",
       "      <td>Finished Airing</td>\n",
       "      <td>Dec 19, 2015</td>\n",
       "      <td>NaN</td>\n",
       "      <td>NaN</td>\n",
       "      <td>Level-5</td>\n",
       "      <td>...</td>\n",
       "      <td>Adventure,Comedy,Fantasy</td>\n",
       "      <td>NaN</td>\n",
       "      <td>Kids</td>\n",
       "      <td>8 min.</td>\n",
       "      <td>G - All Ages</td>\n",
       "      <td>N/A1(scored by - users)1indicates aweighted sc...</td>\n",
       "      <td>#1386522based on thetop animepage. Please note...</td>\n",
       "      <td>#14612</td>\n",
       "      <td>303</td>\n",
       "      <td>0</td>\n",
       "    </tr>\n",
       "    <tr>\n",
       "      <th>14674</th>\n",
       "      <td>44099</td>\n",
       "      <td>Into the Blue's</td>\n",
       "      <td>NaN</td>\n",
       "      <td>Music</td>\n",
       "      <td>1</td>\n",
       "      <td>Finished Airing</td>\n",
       "      <td>May 22, 2020</td>\n",
       "      <td>NaN</td>\n",
       "      <td>NaN</td>\n",
       "      <td>None found,add some</td>\n",
       "      <td>...</td>\n",
       "      <td>NaN</td>\n",
       "      <td>Music</td>\n",
       "      <td>NaN</td>\n",
       "      <td>4 min.</td>\n",
       "      <td>PG-13 - Teens 13 or older</td>\n",
       "      <td>N/A1(scored by - users)1indicates aweighted sc...</td>\n",
       "      <td>#1633122based on thetop animepage. Please note...</td>\n",
       "      <td>#18295</td>\n",
       "      <td>60</td>\n",
       "      <td>0</td>\n",
       "    </tr>\n",
       "    <tr>\n",
       "      <th>18607</th>\n",
       "      <td>32859</td>\n",
       "      <td>Boku wa Kimi wo Warawanai</td>\n",
       "      <td>NaN</td>\n",
       "      <td>Music</td>\n",
       "      <td>1</td>\n",
       "      <td>Finished Airing</td>\n",
       "      <td>Nov 2, 2013</td>\n",
       "      <td>NaN</td>\n",
       "      <td>NaN</td>\n",
       "      <td>Toy's Factory</td>\n",
       "      <td>...</td>\n",
       "      <td>NaN</td>\n",
       "      <td>Music</td>\n",
       "      <td>NaN</td>\n",
       "      <td>3 min.</td>\n",
       "      <td>G - All Ages</td>\n",
       "      <td>5.741(scored by150 users)1indicates aweighted ...</td>\n",
       "      <td>#962022based on thetop animepage. Please note ...</td>\n",
       "      <td>#14890</td>\n",
       "      <td>280</td>\n",
       "      <td>0</td>\n",
       "    </tr>\n",
       "    <tr>\n",
       "      <th>15716</th>\n",
       "      <td>48914</td>\n",
       "      <td>Zhen Dao Ge: Chenshi Hang</td>\n",
       "      <td>Zhen Dao Ge Second Season, Zhen Dao Ge: Chen S...</td>\n",
       "      <td>Unknown</td>\n",
       "      <td>Unknown</td>\n",
       "      <td>Not yet aired</td>\n",
       "      <td>2021 to ?</td>\n",
       "      <td>NaN</td>\n",
       "      <td>NaN</td>\n",
       "      <td>None found,add some</td>\n",
       "      <td>...</td>\n",
       "      <td>Action,Adventure</td>\n",
       "      <td>Martial Arts</td>\n",
       "      <td>NaN</td>\n",
       "      <td>Unknown</td>\n",
       "      <td>PG-13 - Teens 13 or older</td>\n",
       "      <td>N/A1(scored by - users)1indicates aweighted sc...</td>\n",
       "      <td>N/A22based on thetop animepage. Please note th...</td>\n",
       "      <td>#17397</td>\n",
       "      <td>132</td>\n",
       "      <td>0</td>\n",
       "    </tr>\n",
       "    <tr>\n",
       "      <th>13259</th>\n",
       "      <td>119</td>\n",
       "      <td>Final Approach</td>\n",
       "      <td>NaN</td>\n",
       "      <td>TV</td>\n",
       "      <td>13</td>\n",
       "      <td>Finished Airing</td>\n",
       "      <td>Oct 3, 2004 to Dec 26, 2004</td>\n",
       "      <td>Fall 2004</td>\n",
       "      <td>Unknown</td>\n",
       "      <td>Trinet Entertainment</td>\n",
       "      <td>...</td>\n",
       "      <td>Comedy,Drama,Romance,Slice of Life</td>\n",
       "      <td>NaN</td>\n",
       "      <td>NaN</td>\n",
       "      <td>14 min. per ep.</td>\n",
       "      <td>PG-13 - Teens 13 or older</td>\n",
       "      <td>6.541(scored by16,397 users)1indicates aweight...</td>\n",
       "      <td>#594422based on thetop animepage. Please note ...</td>\n",
       "      <td>#3149</td>\n",
       "      <td>33,095</td>\n",
       "      <td>39</td>\n",
       "    </tr>\n",
       "  </tbody>\n",
       "</table>\n",
       "<p>5 rows × 23 columns</p>\n",
       "</div>"
      ],
      "text/plain": [
       "       anime_id                      Title  \\\n",
       "14615     32593            The Snack World   \n",
       "14674     44099            Into the Blue's   \n",
       "18607     32859  Boku wa Kimi wo Warawanai   \n",
       "15716     48914  Zhen Dao Ge: Chenshi Hang   \n",
       "13259       119             Final Approach   \n",
       "\n",
       "                                                Synonyms     Type Episodes  \\\n",
       "14615        The Snack World Eiga, The Snack World Movie    Movie        1   \n",
       "14674                                                NaN    Music        1   \n",
       "18607                                                NaN    Music        1   \n",
       "15716  Zhen Dao Ge Second Season, Zhen Dao Ge: Chen S...  Unknown  Unknown   \n",
       "13259                                                NaN       TV       13   \n",
       "\n",
       "                Status                        Aired  Premiered Broadcast  \\\n",
       "14615  Finished Airing                 Dec 19, 2015        NaN       NaN   \n",
       "14674  Finished Airing                 May 22, 2020        NaN       NaN   \n",
       "18607  Finished Airing                  Nov 2, 2013        NaN       NaN   \n",
       "15716    Not yet aired                    2021 to ?        NaN       NaN   \n",
       "13259  Finished Airing  Oct 3, 2004 to Dec 26, 2004  Fall 2004   Unknown   \n",
       "\n",
       "                  Producers  ...                              Genres  \\\n",
       "14615               Level-5  ...            Adventure,Comedy,Fantasy   \n",
       "14674   None found,add some  ...                                 NaN   \n",
       "18607         Toy's Factory  ...                                 NaN   \n",
       "15716   None found,add some  ...                    Action,Adventure   \n",
       "13259  Trinet Entertainment  ...  Comedy,Drama,Romance,Slice of Life   \n",
       "\n",
       "             Themes Demographic         Duration                     Rating  \\\n",
       "14615           NaN        Kids           8 min.               G - All Ages   \n",
       "14674         Music         NaN           4 min.  PG-13 - Teens 13 or older   \n",
       "18607         Music         NaN           3 min.               G - All Ages   \n",
       "15716  Martial Arts         NaN          Unknown  PG-13 - Teens 13 or older   \n",
       "13259           NaN         NaN  14 min. per ep.  PG-13 - Teens 13 or older   \n",
       "\n",
       "                                                   Score  \\\n",
       "14615  N/A1(scored by - users)1indicates aweighted sc...   \n",
       "14674  N/A1(scored by - users)1indicates aweighted sc...   \n",
       "18607  5.741(scored by150 users)1indicates aweighted ...   \n",
       "15716  N/A1(scored by - users)1indicates aweighted sc...   \n",
       "13259  6.541(scored by16,397 users)1indicates aweight...   \n",
       "\n",
       "                                                  Ranked Popularity Members  \\\n",
       "14615  #1386522based on thetop animepage. Please note...     #14612     303   \n",
       "14674  #1633122based on thetop animepage. Please note...     #18295      60   \n",
       "18607  #962022based on thetop animepage. Please note ...     #14890     280   \n",
       "15716  N/A22based on thetop animepage. Please note th...     #17397     132   \n",
       "13259  #594422based on thetop animepage. Please note ...      #3149  33,095   \n",
       "\n",
       "      Favorites  \n",
       "14615         0  \n",
       "14674         0  \n",
       "18607         0  \n",
       "15716         0  \n",
       "13259        39  \n",
       "\n",
       "[5 rows x 23 columns]"
      ]
     },
     "execution_count": 5,
     "metadata": {},
     "output_type": "execute_result"
    }
   ],
   "source": [
    "# Display random 5 entries of the dataset\n",
    "anime.sample(5)"
   ]
  },
  {
   "cell_type": "markdown",
   "id": "79e163e3",
   "metadata": {},
   "source": [
    "##  Changing the data type of all features"
   ]
  },
  {
   "cell_type": "code",
   "execution_count": 6,
   "id": "2c0aac35",
   "metadata": {},
   "outputs": [],
   "source": [
    "cols = ['anime_id', 'Title', 'Synonyms', 'Type',\n",
    "       'Aired', 'Premiered', 'Broadcast', 'Producers','Status',\n",
    "       'Licensors', 'Studios', 'Source', 'Themes', 'Demographic',\n",
    "       'Duration', 'Rating', 'Genres']\n",
    "for col in cols:\n",
    "  anime[col] = anime[col].astype('category')"
   ]
  },
  {
   "cell_type": "markdown",
   "id": "ba11b974",
   "metadata": {},
   "source": [
    "## Removing the unrelated data and special characters from the features"
   ]
  },
  {
   "cell_type": "code",
   "execution_count": 7,
   "id": "9d18cf51",
   "metadata": {},
   "outputs": [],
   "source": [
    "anime.Episodes=anime.Episodes.replace('Unknown',np.nan)\n",
    "anime.Premiered=anime.Premiered.replace('?',np.nan)\n",
    "anime.Broadcast=anime.Broadcast.replace('Unknown',np.nan)\n",
    "anime.Source=anime.Source.replace('Unknown',np.nan)\n",
    "anime.Duration=anime.Duration.replace('Unknown',np.nan)\n",
    "anime.Popularity=anime.Popularity.str.replace('#','0')\n",
    "anime.Score = anime.Score.str.extract('(\\d+)', expand=False)\n",
    "anime.Ranked = anime.Ranked.str.extract('(\\d+)', expand=False)\n",
    "anime.Members = anime.Members.str.extract('(\\d+)', expand=False)\n",
    "anime.Favorites = anime.Favorites.str.extract('(\\d+)', expand=False)"
   ]
  },
  {
   "cell_type": "code",
   "execution_count": 8,
   "id": "996a441f",
   "metadata": {},
   "outputs": [],
   "source": [
    "numeric_features=['Episodes','Popularity','Members','Favorites','Score','Ranked']\n",
    "for feature in numeric_features:\n",
    "  anime[feature]=anime[feature].astype('float')"
   ]
  },
  {
   "cell_type": "code",
   "execution_count": 9,
   "id": "207fe369",
   "metadata": {
    "scrolled": false
   },
   "outputs": [
    {
     "data": {
      "text/html": [
       "<div>\n",
       "<style scoped>\n",
       "    .dataframe tbody tr th:only-of-type {\n",
       "        vertical-align: middle;\n",
       "    }\n",
       "\n",
       "    .dataframe tbody tr th {\n",
       "        vertical-align: top;\n",
       "    }\n",
       "\n",
       "    .dataframe thead th {\n",
       "        text-align: right;\n",
       "    }\n",
       "</style>\n",
       "<table border=\"1\" class=\"dataframe\">\n",
       "  <thead>\n",
       "    <tr style=\"text-align: right;\">\n",
       "      <th></th>\n",
       "      <th>anime_id</th>\n",
       "      <th>Title</th>\n",
       "      <th>Synonyms</th>\n",
       "      <th>Type</th>\n",
       "      <th>Episodes</th>\n",
       "      <th>Status</th>\n",
       "      <th>Aired</th>\n",
       "      <th>Premiered</th>\n",
       "      <th>Broadcast</th>\n",
       "      <th>Producers</th>\n",
       "      <th>...</th>\n",
       "      <th>Genres</th>\n",
       "      <th>Themes</th>\n",
       "      <th>Demographic</th>\n",
       "      <th>Duration</th>\n",
       "      <th>Rating</th>\n",
       "      <th>Score</th>\n",
       "      <th>Ranked</th>\n",
       "      <th>Popularity</th>\n",
       "      <th>Members</th>\n",
       "      <th>Favorites</th>\n",
       "    </tr>\n",
       "  </thead>\n",
       "  <tbody>\n",
       "    <tr>\n",
       "      <th>2194</th>\n",
       "      <td>39576</td>\n",
       "      <td>Goblin Slayer: Goblin's Crown</td>\n",
       "      <td>NaN</td>\n",
       "      <td>Movie</td>\n",
       "      <td>1.0</td>\n",
       "      <td>Finished Airing</td>\n",
       "      <td>Feb 1, 2020</td>\n",
       "      <td>NaN</td>\n",
       "      <td>NaN</td>\n",
       "      <td>Hakuhodo DY Music &amp; Pictures</td>\n",
       "      <td>...</td>\n",
       "      <td>Action,Adventure,Fantasy</td>\n",
       "      <td>NaN</td>\n",
       "      <td>NaN</td>\n",
       "      <td>1 hr. 25 min.</td>\n",
       "      <td>R - 17+ (violence &amp; profanity)</td>\n",
       "      <td>7.0</td>\n",
       "      <td>274022.0</td>\n",
       "      <td>954.0</td>\n",
       "      <td>189.0</td>\n",
       "      <td>263.0</td>\n",
       "    </tr>\n",
       "    <tr>\n",
       "      <th>899</th>\n",
       "      <td>8646</td>\n",
       "      <td>44-hiki no Neko</td>\n",
       "      <td>Minna no Uta, Shijushi-hiki no Neko, 44 Gatti,...</td>\n",
       "      <td>Music</td>\n",
       "      <td>1.0</td>\n",
       "      <td>Finished Airing</td>\n",
       "      <td>Apr 1, 1969</td>\n",
       "      <td>NaN</td>\n",
       "      <td>NaN</td>\n",
       "      <td>NHK</td>\n",
       "      <td>...</td>\n",
       "      <td>NaN</td>\n",
       "      <td>Music</td>\n",
       "      <td>Kids</td>\n",
       "      <td>2 min.</td>\n",
       "      <td>G - All Ages</td>\n",
       "      <td>4.0</td>\n",
       "      <td>1187722.0</td>\n",
       "      <td>10006.0</td>\n",
       "      <td>1.0</td>\n",
       "      <td>3.0</td>\n",
       "    </tr>\n",
       "    <tr>\n",
       "      <th>2780</th>\n",
       "      <td>8359</td>\n",
       "      <td>Crayon Shin-chan Movie 04: Henderland no Daibo...</td>\n",
       "      <td>Eiga Crayon Shin-chan: Henderland no Daibouken...</td>\n",
       "      <td>Movie</td>\n",
       "      <td>1.0</td>\n",
       "      <td>Finished Airing</td>\n",
       "      <td>Apr 19, 1996</td>\n",
       "      <td>NaN</td>\n",
       "      <td>NaN</td>\n",
       "      <td>TV Asahi</td>\n",
       "      <td>...</td>\n",
       "      <td>Adventure,Ecchi</td>\n",
       "      <td>NaN</td>\n",
       "      <td>Seinen</td>\n",
       "      <td>1 hr. 37 min.</td>\n",
       "      <td>G - All Ages</td>\n",
       "      <td>7.0</td>\n",
       "      <td>300022.0</td>\n",
       "      <td>6589.0</td>\n",
       "      <td>5.0</td>\n",
       "      <td>7.0</td>\n",
       "    </tr>\n",
       "    <tr>\n",
       "      <th>9322</th>\n",
       "      <td>48453</td>\n",
       "      <td>Super Crooks</td>\n",
       "      <td>NaN</td>\n",
       "      <td>ONA</td>\n",
       "      <td>NaN</td>\n",
       "      <td>Not yet aired</td>\n",
       "      <td>Nov 25, 2021</td>\n",
       "      <td>NaN</td>\n",
       "      <td>NaN</td>\n",
       "      <td>None found,add some</td>\n",
       "      <td>...</td>\n",
       "      <td>Action,Drama,Suspense</td>\n",
       "      <td>NaN</td>\n",
       "      <td>NaN</td>\n",
       "      <td>NaN</td>\n",
       "      <td>None</td>\n",
       "      <td>1.0</td>\n",
       "      <td>22.0</td>\n",
       "      <td>7014.0</td>\n",
       "      <td>4.0</td>\n",
       "      <td>4.0</td>\n",
       "    </tr>\n",
       "    <tr>\n",
       "      <th>9256</th>\n",
       "      <td>37936</td>\n",
       "      <td>Wu Shan Wu Xing</td>\n",
       "      <td>Wushan Wuxing, Fog Hill of the Five Elements, ...</td>\n",
       "      <td>ONA</td>\n",
       "      <td>3.0</td>\n",
       "      <td>Finished Airing</td>\n",
       "      <td>Jul 26, 2020 to Aug 9, 2020</td>\n",
       "      <td>NaN</td>\n",
       "      <td>NaN</td>\n",
       "      <td>bilibili</td>\n",
       "      <td>...</td>\n",
       "      <td>Action,Fantasy</td>\n",
       "      <td>Historical,Martial Arts</td>\n",
       "      <td>NaN</td>\n",
       "      <td>26 min. per ep.</td>\n",
       "      <td>R - 17+ (violence &amp; profanity)</td>\n",
       "      <td>7.0</td>\n",
       "      <td>65922.0</td>\n",
       "      <td>3012.0</td>\n",
       "      <td>35.0</td>\n",
       "      <td>241.0</td>\n",
       "    </tr>\n",
       "    <tr>\n",
       "      <th>7990</th>\n",
       "      <td>33776</td>\n",
       "      <td>Watashitachi, Luck Logic-bu! 2</td>\n",
       "      <td>NaN</td>\n",
       "      <td>ONA</td>\n",
       "      <td>12.0</td>\n",
       "      <td>Finished Airing</td>\n",
       "      <td>Aug 1, 2016 to Jan 22, 2017</td>\n",
       "      <td>NaN</td>\n",
       "      <td>NaN</td>\n",
       "      <td>None found,add some</td>\n",
       "      <td>...</td>\n",
       "      <td>NaN</td>\n",
       "      <td>Game,School</td>\n",
       "      <td>NaN</td>\n",
       "      <td>1 min. per ep.</td>\n",
       "      <td>PG-13 - Teens 13 or older</td>\n",
       "      <td>5.0</td>\n",
       "      <td>1016422.0</td>\n",
       "      <td>9725.0</td>\n",
       "      <td>1.0</td>\n",
       "      <td>0.0</td>\n",
       "    </tr>\n",
       "    <tr>\n",
       "      <th>4239</th>\n",
       "      <td>30960</td>\n",
       "      <td>Shou-chan Sora wo Tobu</td>\n",
       "      <td>NaN</td>\n",
       "      <td>Movie</td>\n",
       "      <td>1.0</td>\n",
       "      <td>Finished Airing</td>\n",
       "      <td>Nov 14, 1992</td>\n",
       "      <td>NaN</td>\n",
       "      <td>NaN</td>\n",
       "      <td>None found,add some</td>\n",
       "      <td>...</td>\n",
       "      <td>Horror,Sci-Fi</td>\n",
       "      <td>NaN</td>\n",
       "      <td>NaN</td>\n",
       "      <td>1 hr. 3 min.</td>\n",
       "      <td>PG-13 - Teens 13 or older</td>\n",
       "      <td>1.0</td>\n",
       "      <td>1338222.0</td>\n",
       "      <td>15157.0</td>\n",
       "      <td>263.0</td>\n",
       "      <td>0.0</td>\n",
       "    </tr>\n",
       "    <tr>\n",
       "      <th>9984</th>\n",
       "      <td>43518</td>\n",
       "      <td>Qu Qu</td>\n",
       "      <td>Ququ, Cricket</td>\n",
       "      <td>Movie</td>\n",
       "      <td>1.0</td>\n",
       "      <td>Finished Airing</td>\n",
       "      <td>1982</td>\n",
       "      <td>NaN</td>\n",
       "      <td>NaN</td>\n",
       "      <td>None found,add some</td>\n",
       "      <td>...</td>\n",
       "      <td>NaN</td>\n",
       "      <td>NaN</td>\n",
       "      <td>Kids</td>\n",
       "      <td>25 min.</td>\n",
       "      <td>G - All Ages</td>\n",
       "      <td>1.0</td>\n",
       "      <td>1297422.0</td>\n",
       "      <td>18990.0</td>\n",
       "      <td>16.0</td>\n",
       "      <td>0.0</td>\n",
       "    </tr>\n",
       "    <tr>\n",
       "      <th>1196</th>\n",
       "      <td>28887</td>\n",
       "      <td>Setsuzoku Muyou</td>\n",
       "      <td>Connection Useless</td>\n",
       "      <td>TV</td>\n",
       "      <td>26.0</td>\n",
       "      <td>Finished Airing</td>\n",
       "      <td>Dec 3, 2014 to 2015</td>\n",
       "      <td>NaN</td>\n",
       "      <td>Wednesdays at 17:57 (JST)</td>\n",
       "      <td>Tokyo MX</td>\n",
       "      <td>...</td>\n",
       "      <td>NaN</td>\n",
       "      <td>NaN</td>\n",
       "      <td>NaN</td>\n",
       "      <td>3 min. per ep.</td>\n",
       "      <td>G - All Ages</td>\n",
       "      <td>1.0</td>\n",
       "      <td>1321522.0</td>\n",
       "      <td>16512.0</td>\n",
       "      <td>176.0</td>\n",
       "      <td>0.0</td>\n",
       "    </tr>\n",
       "    <tr>\n",
       "      <th>1212</th>\n",
       "      <td>7026</td>\n",
       "      <td>Mado</td>\n",
       "      <td>The Window</td>\n",
       "      <td>Movie</td>\n",
       "      <td>1.0</td>\n",
       "      <td>Finished Airing</td>\n",
       "      <td>1965</td>\n",
       "      <td>NaN</td>\n",
       "      <td>NaN</td>\n",
       "      <td>Kuri Jikken Manga Kobo</td>\n",
       "      <td>...</td>\n",
       "      <td>NaN</td>\n",
       "      <td>NaN</td>\n",
       "      <td>NaN</td>\n",
       "      <td>5 min.</td>\n",
       "      <td>G - All Ages</td>\n",
       "      <td>4.0</td>\n",
       "      <td>1174922.0</td>\n",
       "      <td>11459.0</td>\n",
       "      <td>896.0</td>\n",
       "      <td>0.0</td>\n",
       "    </tr>\n",
       "  </tbody>\n",
       "</table>\n",
       "<p>10 rows × 23 columns</p>\n",
       "</div>"
      ],
      "text/plain": [
       "     anime_id                                              Title  \\\n",
       "2194    39576                      Goblin Slayer: Goblin's Crown   \n",
       "899      8646                                    44-hiki no Neko   \n",
       "2780     8359  Crayon Shin-chan Movie 04: Henderland no Daibo...   \n",
       "9322    48453                                       Super Crooks   \n",
       "9256    37936                                    Wu Shan Wu Xing   \n",
       "7990    33776                     Watashitachi, Luck Logic-bu! 2   \n",
       "4239    30960                             Shou-chan Sora wo Tobu   \n",
       "9984    43518                                              Qu Qu   \n",
       "1196    28887                                    Setsuzoku Muyou   \n",
       "1212     7026                                               Mado   \n",
       "\n",
       "                                               Synonyms   Type  Episodes  \\\n",
       "2194                                                NaN  Movie       1.0   \n",
       "899   Minna no Uta, Shijushi-hiki no Neko, 44 Gatti,...  Music       1.0   \n",
       "2780  Eiga Crayon Shin-chan: Henderland no Daibouken...  Movie       1.0   \n",
       "9322                                                NaN    ONA       NaN   \n",
       "9256  Wushan Wuxing, Fog Hill of the Five Elements, ...    ONA       3.0   \n",
       "7990                                                NaN    ONA      12.0   \n",
       "4239                                                NaN  Movie       1.0   \n",
       "9984                                      Ququ, Cricket  Movie       1.0   \n",
       "1196                                 Connection Useless     TV      26.0   \n",
       "1212                                         The Window  Movie       1.0   \n",
       "\n",
       "               Status                        Aired Premiered  \\\n",
       "2194  Finished Airing                  Feb 1, 2020       NaN   \n",
       "899   Finished Airing                  Apr 1, 1969       NaN   \n",
       "2780  Finished Airing                 Apr 19, 1996       NaN   \n",
       "9322    Not yet aired                 Nov 25, 2021       NaN   \n",
       "9256  Finished Airing  Jul 26, 2020 to Aug 9, 2020       NaN   \n",
       "7990  Finished Airing  Aug 1, 2016 to Jan 22, 2017       NaN   \n",
       "4239  Finished Airing                 Nov 14, 1992       NaN   \n",
       "9984  Finished Airing                         1982       NaN   \n",
       "1196  Finished Airing          Dec 3, 2014 to 2015       NaN   \n",
       "1212  Finished Airing                         1965       NaN   \n",
       "\n",
       "                      Broadcast                     Producers  ...  \\\n",
       "2194                        NaN  Hakuhodo DY Music & Pictures  ...   \n",
       "899                         NaN                           NHK  ...   \n",
       "2780                        NaN                      TV Asahi  ...   \n",
       "9322                        NaN           None found,add some  ...   \n",
       "9256                        NaN                      bilibili  ...   \n",
       "7990                        NaN           None found,add some  ...   \n",
       "4239                        NaN           None found,add some  ...   \n",
       "9984                        NaN           None found,add some  ...   \n",
       "1196  Wednesdays at 17:57 (JST)                      Tokyo MX  ...   \n",
       "1212                        NaN        Kuri Jikken Manga Kobo  ...   \n",
       "\n",
       "                        Genres                   Themes Demographic  \\\n",
       "2194  Action,Adventure,Fantasy                      NaN         NaN   \n",
       "899                        NaN                    Music        Kids   \n",
       "2780           Adventure,Ecchi                      NaN      Seinen   \n",
       "9322     Action,Drama,Suspense                      NaN         NaN   \n",
       "9256            Action,Fantasy  Historical,Martial Arts         NaN   \n",
       "7990                       NaN              Game,School         NaN   \n",
       "4239             Horror,Sci-Fi                      NaN         NaN   \n",
       "9984                       NaN                      NaN        Kids   \n",
       "1196                       NaN                      NaN         NaN   \n",
       "1212                       NaN                      NaN         NaN   \n",
       "\n",
       "             Duration                          Rating Score     Ranked  \\\n",
       "2194    1 hr. 25 min.  R - 17+ (violence & profanity)   7.0   274022.0   \n",
       "899            2 min.                    G - All Ages   4.0  1187722.0   \n",
       "2780    1 hr. 37 min.                    G - All Ages   7.0   300022.0   \n",
       "9322              NaN                            None   1.0       22.0   \n",
       "9256  26 min. per ep.  R - 17+ (violence & profanity)   7.0    65922.0   \n",
       "7990   1 min. per ep.       PG-13 - Teens 13 or older   5.0  1016422.0   \n",
       "4239     1 hr. 3 min.       PG-13 - Teens 13 or older   1.0  1338222.0   \n",
       "9984          25 min.                    G - All Ages   1.0  1297422.0   \n",
       "1196   3 min. per ep.                    G - All Ages   1.0  1321522.0   \n",
       "1212           5 min.                    G - All Ages   4.0  1174922.0   \n",
       "\n",
       "     Popularity  Members  Favorites  \n",
       "2194      954.0    189.0      263.0  \n",
       "899     10006.0      1.0        3.0  \n",
       "2780     6589.0      5.0        7.0  \n",
       "9322     7014.0      4.0        4.0  \n",
       "9256     3012.0     35.0      241.0  \n",
       "7990     9725.0      1.0        0.0  \n",
       "4239    15157.0    263.0        0.0  \n",
       "9984    18990.0     16.0        0.0  \n",
       "1196    16512.0    176.0        0.0  \n",
       "1212    11459.0    896.0        0.0  \n",
       "\n",
       "[10 rows x 23 columns]"
      ]
     },
     "execution_count": 9,
     "metadata": {},
     "output_type": "execute_result"
    }
   ],
   "source": [
    "anime.sample(10)"
   ]
  },
  {
   "cell_type": "code",
   "execution_count": 10,
   "id": "82da6d33",
   "metadata": {
    "scrolled": true
   },
   "outputs": [
    {
     "data": {
      "text/plain": [
       "Index(['anime_id', 'Title', 'Synonyms', 'Type', 'Episodes', 'Status', 'Aired',\n",
       "       'Premiered', 'Broadcast', 'Producers', 'Licensors', 'Studios', 'Source',\n",
       "       'Genres', 'Themes', 'Demographic', 'Duration', 'Rating', 'Score',\n",
       "       'Ranked', 'Popularity', 'Members', 'Favorites'],\n",
       "      dtype='object')"
      ]
     },
     "execution_count": 10,
     "metadata": {},
     "output_type": "execute_result"
    }
   ],
   "source": [
    "anime.columns"
   ]
  },
  {
   "cell_type": "markdown",
   "id": "20811026",
   "metadata": {},
   "source": [
    "## Data Cleaning"
   ]
  },
  {
   "cell_type": "markdown",
   "id": "cf468e9b",
   "metadata": {},
   "source": [
    "### Checking Missing values"
   ]
  },
  {
   "cell_type": "code",
   "execution_count": 11,
   "id": "11d9fe4f",
   "metadata": {},
   "outputs": [
    {
     "name": "stdout",
     "output_type": "stream",
     "text": [
      "Synonyms 40.4235  % missing values\n",
      "Episodes 2.6614  % missing values\n",
      "Premiered 73.7464  % missing values\n",
      "Broadcast 84.6484  % missing values\n",
      "Source 19.4719  % missing values\n",
      "Genres 48.4131  % missing values\n",
      "Themes 51.4824  % missing values\n",
      "Demographic 63.9895  % missing values\n",
      "Duration 2.9386  % missing values\n"
     ]
    }
   ],
   "source": [
    "anime_with_na=[features for features in anime.columns if anime[features].isnull().sum()>1]\n",
    "for feature in anime_with_na:\n",
    "    print(feature, np.round(anime[feature].isnull().mean()*100, 4),  ' % missing values')"
   ]
  },
  {
   "cell_type": "code",
   "execution_count": 12,
   "id": "4b2cd9c4",
   "metadata": {
    "scrolled": true
   },
   "outputs": [
    {
     "data": {
      "text/plain": [
       "anime_id           0\n",
       "Title              0\n",
       "Synonyms        7731\n",
       "Type               0\n",
       "Episodes         509\n",
       "Status             0\n",
       "Aired              0\n",
       "Premiered      14104\n",
       "Broadcast      16189\n",
       "Producers          0\n",
       "Licensors          0\n",
       "Studios            0\n",
       "Source          3724\n",
       "Genres          9259\n",
       "Themes          9846\n",
       "Demographic    12238\n",
       "Duration         562\n",
       "Rating             0\n",
       "Score              0\n",
       "Ranked             0\n",
       "Popularity         0\n",
       "Members            0\n",
       "Favorites          0\n",
       "dtype: int64"
      ]
     },
     "execution_count": 12,
     "metadata": {},
     "output_type": "execute_result"
    }
   ],
   "source": [
    "anime.isnull().sum()"
   ]
  },
  {
   "cell_type": "markdown",
   "id": "0dd6407f",
   "metadata": {},
   "source": [
    "### Removing some more unnecessary columns"
   ]
  },
  {
   "cell_type": "markdown",
   "id": "6fb9956d",
   "metadata": {},
   "source": [
    " 1. Some of the features contains a lot of missing values such as:\n",
    " Premiered and Broadcast which are almost null for most of the data samples.\n",
    " \n",
    " 2. The feature demographic and themes is also removed as they are similar to Genres. \n",
    " \n",
    " 4.Removed those features which contains 50% of the missing value in data."
   ]
  },
  {
   "cell_type": "code",
   "execution_count": 13,
   "id": "075a242e",
   "metadata": {},
   "outputs": [],
   "source": [
    "anime=anime.drop(columns=['Premiered','Broadcast','Demographic','Themes'])"
   ]
  },
  {
   "cell_type": "markdown",
   "id": "cf2f2db4",
   "metadata": {},
   "source": [
    "### Finding unique values for each feature"
   ]
  },
  {
   "cell_type": "code",
   "execution_count": 14,
   "id": "ad64c95a",
   "metadata": {},
   "outputs": [
    {
     "data": {
      "text/plain": [
       "anime_id      18969\n",
       "Title         18969\n",
       "Synonyms      10728\n",
       "Type              7\n",
       "Episodes        213\n",
       "Status            3\n",
       "Aired         12645\n",
       "Producers      3901\n",
       "Licensors       238\n",
       "Studios        1279\n",
       "Source           15\n",
       "Genres          894\n",
       "Duration        318\n",
       "Rating            7\n",
       "Score             9\n",
       "Ranked        16944\n",
       "Popularity    18910\n",
       "Members         984\n",
       "Favorites       756\n",
       "dtype: int64"
      ]
     },
     "execution_count": 14,
     "metadata": {},
     "output_type": "execute_result"
    }
   ],
   "source": [
    "anime.nunique()"
   ]
  },
  {
   "cell_type": "code",
   "execution_count": 15,
   "id": "66213035",
   "metadata": {},
   "outputs": [
    {
     "data": {
      "text/plain": [
       "['Special', 'OVA', 'ONA', 'Music', 'Movie', 'TV', 'Unknown']\n",
       "Categories (7, object): ['Movie', 'Music', 'ONA', 'OVA', 'Special', 'TV', 'Unknown']"
      ]
     },
     "execution_count": 15,
     "metadata": {},
     "output_type": "execute_result"
    }
   ],
   "source": [
    "anime.Type.unique()"
   ]
  },
  {
   "cell_type": "code",
   "execution_count": 16,
   "id": "d2551bdd",
   "metadata": {},
   "outputs": [
    {
     "data": {
      "text/plain": [
       "['Finished Airing', 'Currently Airing', 'Not yet aired']\n",
       "Categories (3, object): ['Currently Airing', 'Finished Airing', 'Not yet aired']"
      ]
     },
     "execution_count": 16,
     "metadata": {},
     "output_type": "execute_result"
    }
   ],
   "source": [
    "anime.Status.unique()"
   ]
  },
  {
   "cell_type": "code",
   "execution_count": 17,
   "id": "86cec250",
   "metadata": {},
   "outputs": [
    {
     "data": {
      "text/plain": [
       "['Original', NaN, 'Other', 'Novel', 'Music', ..., 'Card game', 'Web manga', 'Book', 'Radio', 'Digital manga']\n",
       "Length: 16\n",
       "Categories (15, object): ['4-koma manga', 'Book', 'Card game', 'Digital manga', ..., 'Picture book', 'Radio', 'Visual novel', 'Web manga']"
      ]
     },
     "execution_count": 17,
     "metadata": {},
     "output_type": "execute_result"
    }
   ],
   "source": [
    "anime.Source.unique()"
   ]
  },
  {
   "cell_type": "code",
   "execution_count": 18,
   "id": "0b5cbf35",
   "metadata": {},
   "outputs": [
    {
     "data": {
      "text/plain": [
       "['PG-13 - Teens 13 or older', 'G - All Ages', 'PG - Children', 'R - 17+ (violence & profanity)', 'None', 'R+ - Mild Nudity', 'Rx - Hentai']\n",
       "Categories (7, object): ['G - All Ages', 'None', 'PG - Children', 'PG-13 - Teens 13 or older', 'R - 17+ (violence & profanity)', 'R+ - Mild Nudity', 'Rx - Hentai']"
      ]
     },
     "execution_count": 18,
     "metadata": {},
     "output_type": "execute_result"
    }
   ],
   "source": [
    "anime.Rating.unique()"
   ]
  },
  {
   "cell_type": "code",
   "execution_count": 19,
   "id": "efadfa46",
   "metadata": {},
   "outputs": [
    {
     "data": {
      "text/plain": [
       "array([6., 1., 4., 7., 5., 3., 8., 9., 2.])"
      ]
     },
     "execution_count": 19,
     "metadata": {},
     "output_type": "execute_result"
    }
   ],
   "source": [
    "anime.Score.unique()"
   ]
  },
  {
   "cell_type": "code",
   "execution_count": 20,
   "metadata": {},
   "outputs": [],
   "source": [
    "anime.to_csv('./Datasets/anime-info-main-clean.csv', sep=';', index=False, header=anime.columns)"
   ]
  }
 ],
 "metadata": {
  "interpreter": {
   "hash": "916dbcbb3f70747c44a77c7bcd40155683ae19c65e1c03b4aa3499c5328201f1"
  },
  "kernelspec": {
   "display_name": "Python 3.8.10 64-bit",
   "language": "python",
   "name": "python3"
  },
  "language_info": {
   "codemirror_mode": {
    "name": "ipython",
    "version": 3
   },
   "file_extension": ".py",
   "mimetype": "text/x-python",
   "name": "python",
   "nbconvert_exporter": "python",
   "pygments_lexer": "ipython3",
   "version": "3.8.10"
  },
  "orig_nbformat": 4
 },
 "nbformat": 4,
 "nbformat_minor": 2
}
