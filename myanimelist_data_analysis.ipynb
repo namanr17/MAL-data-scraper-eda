{
 "cells": [
  {
   "cell_type": "code",
   "execution_count": null,
   "id": "14d2bf11",
   "metadata": {},
   "outputs": [],
   "source": [
    "import numpy as np\n",
    "import pandas as pd\n",
    "import matplotlib.pyplot as plt\n",
    "from PIL import Image\n",
    "from wordcloud import WordCloud\n",
    "from collections import Counter\n",
    "import seaborn as sns\n",
    "import nltk"
   ]
  },
  {
   "cell_type": "code",
   "execution_count": null,
   "id": "4d989003",
   "metadata": {},
   "outputs": [],
   "source": [
    "anime=pd.read_csv(\"./Datasets/anime-info-main-clean.csv\", sep=';')\n",
    "anime.sample(5)"
   ]
  },
  {
   "cell_type": "markdown",
   "id": "dd97f552",
   "metadata": {},
   "source": [
    "## Data Analysis"
   ]
  },
  {
   "cell_type": "markdown",
   "id": "3c153188",
   "metadata": {},
   "source": [
    "### Famous Genre of Anime"
   ]
  },
  {
   "cell_type": "code",
   "execution_count": null,
   "id": "48598930",
   "metadata": {},
   "outputs": [],
   "source": [
    "anime.Genres=anime.Genres.fillna(anime['Genres'].mode().iloc[0])\n",
    "\n",
    "the_list=anime.Genres.to_list()\n",
    "the_list = [map(lambda x: x.strip(), item.split(',')) for item in the_list]\n",
    "new_list = [item for sub_list in the_list for item in sub_list]\n",
    "\n",
    "str1 = \" \" \n",
    "str1=str1.join(new_list)\n",
    "\n",
    "genre_list = str1\n",
    "wordcloud = WordCloud(background_color=\"white\").generate(genre_list)\n",
    "plt.figure(figsize=(8,7))\n",
    "plt.imshow(wordcloud, interpolation='bilinear')\n",
    "plt.axis(\"off\")"
   ]
  },
  {
   "cell_type": "markdown",
   "id": "73e9ec46",
   "metadata": {},
   "source": [
    "### Top 3 Famous Genres"
   ]
  },
  {
   "cell_type": "code",
   "execution_count": null,
   "id": "e86c48f6",
   "metadata": {
    "scrolled": false
   },
   "outputs": [],
   "source": [
    "c = Counter(new_list)\n",
    "c.most_common(3)"
   ]
  },
  {
   "cell_type": "markdown",
   "id": "aaba3403",
   "metadata": {},
   "source": [
    "Comedy, Slice of Life and Action are top 3 Genres "
   ]
  },
  {
   "cell_type": "markdown",
   "id": "640f3296",
   "metadata": {},
   "source": [
    "### Highest Scored Anime"
   ]
  },
  {
   "cell_type": "code",
   "execution_count": null,
   "id": "4ec3bb29",
   "metadata": {
    "scrolled": true
   },
   "outputs": [],
   "source": [
    "top10_animescore=anime[['Title', 'Score']].sort_values(by = 'Score',ascending = False).head(10)\n",
    "top10_animescore"
   ]
  },
  {
   "cell_type": "code",
   "execution_count": null,
   "id": "5746b7a9",
   "metadata": {
    "scrolled": false
   },
   "outputs": [],
   "source": [
    "top10_animescore.plot.bar(x=\"Title\", y=\"Score\", rot=70, title=\"Top Anime based on Score\");\n",
    "plt.xlabel('Anime',fontsize = 20) \n",
    "plt.ylabel('Score', fontsize = 20)\n",
    "plt.show(block=True)"
   ]
  },
  {
   "cell_type": "markdown",
   "id": "87769dc7",
   "metadata": {},
   "source": [
    "## Top ranked Anime"
   ]
  },
  {
   "cell_type": "code",
   "execution_count": null,
   "id": "126004b7",
   "metadata": {
    "scrolled": true
   },
   "outputs": [],
   "source": [
    "top10_animerank=anime[['Title', 'Ranked']].sort_values(by = 'Ranked',ascending = False).head(10)\n",
    "top10_animerank"
   ]
  },
  {
   "cell_type": "code",
   "execution_count": null,
   "id": "d8dbe278",
   "metadata": {
    "scrolled": false
   },
   "outputs": [],
   "source": [
    "top10_animerank.plot.bar(x=\"Title\", y=\"Ranked\", rot=70, title=\"Top Anime based on Score\");\n",
    "plt.xlabel('Anime',fontsize = 20) \n",
    "plt.ylabel('Ranked', fontsize = 20)\n",
    "plt.show(block=True)"
   ]
  },
  {
   "cell_type": "markdown",
   "id": "0bf9dcbf",
   "metadata": {},
   "source": [
    "### Top Anime Based on Members"
   ]
  },
  {
   "cell_type": "code",
   "execution_count": null,
   "id": "400eff41",
   "metadata": {},
   "outputs": [],
   "source": [
    "top10_animemembers=anime[['Title', 'Members']].sort_values(by = 'Members',ascending = False).head(10)\n",
    "top10_animemembers"
   ]
  },
  {
   "cell_type": "code",
   "execution_count": null,
   "id": "628a37a0",
   "metadata": {
    "scrolled": true
   },
   "outputs": [],
   "source": [
    "top10_animemembers"
   ]
  },
  {
   "cell_type": "code",
   "execution_count": null,
   "id": "d1a7e8f0",
   "metadata": {
    "scrolled": true
   },
   "outputs": [],
   "source": [
    "top10_animemembers.plot.bar(x=\"Title\", y=\"Members\", rot=70, title=\"Top 10 Anime based on members\")\n",
    "plt.xlabel('Anime',fontsize = 20) \n",
    "plt.ylabel('Community Size', fontsize = 20)\n",
    "plt.show(block=True)"
   ]
  },
  {
   "cell_type": "markdown",
   "id": "dc723982",
   "metadata": {},
   "source": [
    "### Top Anime based on Number of Episodes"
   ]
  },
  {
   "cell_type": "code",
   "execution_count": null,
   "id": "d3b53110",
   "metadata": {},
   "outputs": [],
   "source": [
    "top10_animeepisodes=anime[['Title', 'Episodes']].sort_values(by = 'Episodes',ascending = False).head(5)\n",
    "top10_animeepisodes"
   ]
  },
  {
   "cell_type": "code",
   "execution_count": null,
   "id": "1219c90c",
   "metadata": {},
   "outputs": [],
   "source": [
    "top10_animeepisodes.plot.bar(x=\"Title\", y=\"Episodes\", rot=70, title=\"Top 5 Anime with maximum episodes \");\n",
    "plt.xlabel('Anime',fontsize = 20) \n",
    "plt.ylabel('No. of Episodes', fontsize = 20)\n",
    "plt.show(block=True);"
   ]
  },
  {
   "cell_type": "code",
   "execution_count": null,
   "id": "1f992e89",
   "metadata": {
    "scrolled": true
   },
   "outputs": [],
   "source": [
    "top10_animeepisodes.plot.bar(x=\"Title\", y=\"Episodes\", rot=70, title=\"Top 5 Anime with maximum episodes \");\n",
    "plt.xlabel('Anime',fontsize = 20) \n",
    "plt.ylabel('No. of Episodes', fontsize = 20)\n",
    "plt.show(block=True);"
   ]
  },
  {
   "cell_type": "markdown",
   "id": "29ce8818",
   "metadata": {},
   "source": [
    "## Anime content Rating"
   ]
  },
  {
   "cell_type": "code",
   "execution_count": null,
   "id": "8f455482",
   "metadata": {
    "scrolled": false
   },
   "outputs": [],
   "source": [
    "anime.Rating.value_counts().plot.bar()"
   ]
  },
  {
   "cell_type": "markdown",
   "id": "c663bcb3",
   "metadata": {},
   "source": [
    "### Anime Sources"
   ]
  },
  {
   "cell_type": "code",
   "execution_count": null,
   "id": "0d1369e0",
   "metadata": {},
   "outputs": [],
   "source": [
    "anime.Source.value_counts().plot.bar()"
   ]
  },
  {
   "cell_type": "markdown",
   "id": "6df0b1ad",
   "metadata": {},
   "source": [
    "## Type of Anime Content Available"
   ]
  },
  {
   "cell_type": "code",
   "execution_count": null,
   "id": "dcf030b0",
   "metadata": {},
   "outputs": [],
   "source": [
    "anime['Type'].hist(bins=20)"
   ]
  },
  {
   "cell_type": "code",
   "execution_count": null,
   "id": "9f20f403",
   "metadata": {},
   "outputs": [],
   "source": [
    "# Creating plot\n",
    "fig = plt.figure(figsize =(10, 7))\n",
    "plt.pie(anime['Type'].value_counts().values, labels = anime['Type'].value_counts().index)\n",
    "  \n",
    "# show plot\n",
    "plt.show()"
   ]
  },
  {
   "cell_type": "markdown",
   "id": "be51efbb",
   "metadata": {},
   "source": [
    "### Most Favorite Anime liked by users"
   ]
  },
  {
   "cell_type": "code",
   "execution_count": null,
   "id": "0fb08bcf",
   "metadata": {},
   "outputs": [],
   "source": [
    "top10_animefavorites=anime[['Title', 'Favorites']].sort_values(by = 'Favorites',ascending = False).head(10)\n",
    "top10_animefavorites"
   ]
  },
  {
   "cell_type": "code",
   "execution_count": null,
   "id": "e40d59e4",
   "metadata": {
    "scrolled": true
   },
   "outputs": [],
   "source": [
    "top10_animefavorites.plot.bar(x=\"Title\", y=\"Favorites\", rot=70, title=\"Top 10 Anime based on favorites\");\n",
    "plt.xlabel('Anime',fontsize = 20) \n",
    "plt.ylabel('Loving Anime by Community Size', fontsize = 20)\n",
    "plt.show(block=True);"
   ]
  },
  {
   "cell_type": "markdown",
   "id": "745ab61a",
   "metadata": {},
   "source": [
    "### Popular Anime"
   ]
  },
  {
   "cell_type": "code",
   "execution_count": null,
   "id": "2310d0e5",
   "metadata": {},
   "outputs": [],
   "source": [
    "top_popular_anime=anime[['Title', 'Popularity']].sort_values(by = 'Popularity',ascending = False).head(10)\n",
    "top_popular_anime.plot.bar(x=\"Title\", y=\"Popularity\", rot=70, title=\"Top 10 popular Anime \");\n",
    "plt.xlabel('Anime',fontsize = 20) \n",
    "plt.ylabel('Popularity', fontsize = 20)\n",
    "plt.show(block=True);"
   ]
  },
  {
   "cell_type": "markdown",
   "id": "0630f6c7",
   "metadata": {},
   "source": [
    "### The popularity feature is irrelevant as it is not giving much information about the Anime. We can drop this feature also."
   ]
  },
  {
   "cell_type": "code",
   "execution_count": null,
   "id": "80510e80",
   "metadata": {},
   "outputs": [],
   "source": [
    "anime=anime.drop(columns='Popularity')"
   ]
  },
  {
   "cell_type": "markdown",
   "id": "7b5cfbb1",
   "metadata": {},
   "source": [
    "## Data Distribution"
   ]
  },
  {
   "cell_type": "code",
   "execution_count": null,
   "id": "2a9e6b48",
   "metadata": {},
   "outputs": [],
   "source": [
    "check_behavior = [\"Score\",\"Episodes\", \"Members\",\"Favorites\",\"Status\"]\n",
    "for feature in check_behavior:\n",
    "    plt.figure(figsize = (15, 7))\n",
    "    plt.subplot(1,2,1)\n",
    "    anime[feature].hist(bins=70)\n",
    "    plt.xlabel(feature)\n",
    "    plt.ylabel(\"count\")\n",
    "    plt.title(feature)\n",
    "    plt.show()"
   ]
  },
  {
   "cell_type": "code",
   "execution_count": null,
   "id": "819056fb",
   "metadata": {},
   "outputs": [],
   "source": [
    "corr = anime.corr()\n",
    "corr"
   ]
  },
  {
   "cell_type": "code",
   "execution_count": null,
   "id": "333f8870",
   "metadata": {},
   "outputs": [],
   "source": [
    "#Using Pearson Correlation\n",
    "plt.figure(figsize=(8,8))\n",
    "cor = anime.corr()\n",
    "sns.heatmap(cor, annot=True, cmap=plt.cm.Reds)\n",
    "plt.show()"
   ]
  },
  {
   "cell_type": "code",
   "execution_count": null,
   "id": "def878e4",
   "metadata": {},
   "outputs": [],
   "source": [
    "#Correlation with output variable\n",
    "cor_target = abs(cor[\"Score\"])\n",
    "#Selecting highly correlated features\n",
    "relevant_features = cor_target[cor_target>0.05]\n",
    "relevant_features"
   ]
  },
  {
   "cell_type": "code",
   "execution_count": null,
   "id": "49a83d74",
   "metadata": {
    "scrolled": false
   },
   "outputs": [],
   "source": [
    "continuous_features=['Episodes','Members','Favorites','Score','Ranked']\n",
    "for feature in continuous_features:\n",
    "    data=anime.copy()\n",
    "    data.boxplot(column=feature)\n",
    "    plt.ylabel(feature)\n",
    "    plt.title(feature)\n",
    "    plt.show()"
   ]
  },
  {
   "cell_type": "markdown",
   "id": "af809226",
   "metadata": {},
   "source": [
    "### Staus of Anime content"
   ]
  },
  {
   "cell_type": "code",
   "execution_count": null,
   "id": "f6a6220a",
   "metadata": {
    "scrolled": true
   },
   "outputs": [],
   "source": [
    "anime.Status.value_counts().plot.bar()"
   ]
  },
  {
   "cell_type": "markdown",
   "id": "50e90d7a",
   "metadata": {},
   "source": [
    "## Score vs Rank"
   ]
  },
  {
   "cell_type": "code",
   "execution_count": null,
   "id": "c6a4c02b",
   "metadata": {},
   "outputs": [],
   "source": [
    "rank=anime['Ranked']\n",
    "score=anime['Score']\n",
    "favorite=anime['Favorites']"
   ]
  },
  {
   "cell_type": "code",
   "execution_count": null,
   "id": "360e7b4e",
   "metadata": {},
   "outputs": [],
   "source": [
    "plt.figure(7)\n",
    "plt.title(\"Score Vs Rank\")\n",
    "sns.scatterplot( score, rank);"
   ]
  },
  {
   "cell_type": "markdown",
   "id": "a6515d9d",
   "metadata": {},
   "source": [
    "### Score vs Favorite"
   ]
  },
  {
   "cell_type": "code",
   "execution_count": null,
   "id": "4deb7e27",
   "metadata": {
    "scrolled": true
   },
   "outputs": [],
   "source": [
    "plt.figure(7)\n",
    "plt.title(\"Score Vs Favorite\")\n",
    "sns.scatterplot( score, favorite);"
   ]
  },
  {
   "cell_type": "markdown",
   "id": "1a9f9074",
   "metadata": {},
   "source": [
    "# Analysis of User Reviews"
   ]
  },
  {
   "cell_type": "code",
   "execution_count": null,
   "id": "da9ecc56",
   "metadata": {},
   "outputs": [],
   "source": [
    "reviews=pd.read_csv('./Datasets/anime-reviews-main.csv', sep=';')\n",
    "reviews.sample(5)"
   ]
  },
  {
   "cell_type": "code",
   "execution_count": null,
   "id": "d183c542",
   "metadata": {},
   "outputs": [],
   "source": [
    "reviews=reviews.drop(columns=['Title', 'anime_id' ,'review_5'])\n",
    "reviews.sample(5)"
   ]
  },
  {
   "cell_type": "code",
   "execution_count": null,
   "id": "2d52f0b1",
   "metadata": {},
   "outputs": [],
   "source": [
    "reviews['Reviews'] = reviews[reviews.columns[0:]].apply(\n",
    "    lambda x: ','.join(x.dropna().astype(str)),\n",
    "    axis=1\n",
    ")\n",
    "\n",
    "reviews=reviews.drop(columns=['review_1','review_2','review_3','review_4'])\n",
    "reviews['Reviews'].replace('', np.nan, inplace=True)\n",
    "reviews=reviews.dropna()\n",
    "reviews.sample(5)"
   ]
  },
  {
   "cell_type": "code",
   "execution_count": null,
   "id": "10ee1b41",
   "metadata": {},
   "outputs": [],
   "source": [
    "nltk.download('vader_lexicon')\n",
    "nltk.download('stopwords')\n",
    "nltk.download('averaged_perceptron_tagger')\n",
    "nltk.download('wordnet')"
   ]
  },
  {
   "cell_type": "code",
   "execution_count": null,
   "id": "105ede9c",
   "metadata": {},
   "outputs": [],
   "source": [
    "# Add sentiment anaylsis columns\n",
    "sia = nltk.sentiment.vader.SentimentIntensityAnalyzer()\n",
    "\n",
    "reviews['positive'] = reviews.iloc[:,0].apply(lambda x: sia.polarity_scores(x)['pos'])\n",
    "reviews['neutral'] = reviews.iloc[:,0].apply(lambda x: sia.polarity_scores(x)['neu'])\n",
    "reviews['negative'] = reviews.iloc[:,0].apply(lambda x: sia.polarity_scores(x)['neg'])\n",
    "reviews['compound'] = reviews.iloc[:,0].apply(lambda x: sia.polarity_scores(x)['compound'])"
   ]
  },
  {
   "cell_type": "code",
   "execution_count": null,
   "id": "153185bf",
   "metadata": {
    "scrolled": false
   },
   "outputs": [],
   "source": [
    "reviews.sample(5)"
   ]
  },
  {
   "cell_type": "markdown",
   "id": "ea26b0ff",
   "metadata": {},
   "source": [
    "## Top 10 positive reviews"
   ]
  },
  {
   "cell_type": "code",
   "execution_count": null,
   "id": "ac277f89",
   "metadata": {
    "scrolled": false
   },
   "outputs": [],
   "source": [
    "reviews.sort_values(by='positive', ascending=False).head(10)"
   ]
  },
  {
   "cell_type": "markdown",
   "id": "be1c4103",
   "metadata": {},
   "source": [
    "## Top 10 negative reviews"
   ]
  },
  {
   "cell_type": "code",
   "execution_count": null,
   "id": "8c8cf173",
   "metadata": {},
   "outputs": [],
   "source": [
    "reviews.sort_values(by='negative', ascending=False).head(10)"
   ]
  },
  {
   "cell_type": "code",
   "execution_count": null,
   "id": "f8bb3a3b",
   "metadata": {
    "scrolled": true
   },
   "outputs": [],
   "source": [
    "# wordcloud function\n",
    "def show_wordcloud(data, title = None):\n",
    "    wordcloud = WordCloud(\n",
    "        background_color = 'black',\n",
    "        max_words = 200,\n",
    "        max_font_size = 40, \n",
    "        scale = 3,\n",
    "        random_state = 42\n",
    "    ).generate(str(data))\n",
    "\n",
    "    fig = plt.figure(1, figsize = (10, 10))\n",
    "    plt.axis('off')\n",
    "    if title: \n",
    "        fig.suptitle(title, fontsize = 20)\n",
    "        fig.subplots_adjust(top = 2.3)\n",
    "\n",
    "    plt.imshow(wordcloud,interpolation=\"bilinear\" )\n",
    "    plt.show()\n",
    "    \n",
    "# print wordcloud\n",
    "show_wordcloud(reviews[\"Reviews\"])"
   ]
  },
  {
   "cell_type": "markdown",
   "id": "07b0566b",
   "metadata": {},
   "source": [
    "Some of the positive reviews are:\n",
    "\n",
    "1. Good\n",
    "2. beautiful\n",
    "3. first\n",
    "4. pretty\n",
    "5. Quick\n",
    "6. better"
   ]
  }
 ],
 "metadata": {
  "kernelspec": {
   "display_name": "Python 3",
   "language": "python",
   "name": "python3"
  },
  "language_info": {
   "codemirror_mode": {
    "name": "ipython",
    "version": 3
   },
   "file_extension": ".py",
   "mimetype": "text/x-python",
   "name": "python",
   "nbconvert_exporter": "python",
   "pygments_lexer": "ipython3",
   "version": "3.8.10"
  }
 },
 "nbformat": 4,
 "nbformat_minor": 5
}
