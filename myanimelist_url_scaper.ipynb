{
 "cells": [
  {
   "cell_type": "code",
   "execution_count": 1,
   "metadata": {},
   "outputs": [],
   "source": [
    "import requests\n",
    "import string\n",
    "import random\n",
    "import time\n",
    "import csv\n",
    "import pandas as pd\n",
    "import concurrent.futures\n",
    "from bs4 import BeautifulSoup"
   ]
  },
  {
   "cell_type": "code",
   "execution_count": 3,
   "metadata": {},
   "outputs": [],
   "source": [
    "# Function to fetch URLs for a character `alpha` from `base_url`\n",
    "def fetch_urls(alpha):\n",
    "    n_rows = 0\n",
    "    urls = [[]]\n",
    "    \n",
    "    while(True):\n",
    "        url = base_url + f'?letter={alpha}' + f'&show={n_rows}'\n",
    "        time.sleep(random.uniform(0, 0.2))\n",
    "        page = requests.get(url, headers=headers)\n",
    "\n",
    "        # Fetch URLs from the page if there's no error\n",
    "        if (page.status_code == 200):\n",
    "            soup = BeautifulSoup(page.content, 'html.parser')\n",
    "            for link in soup.find_all('a', class_='hoverinfo_trigger fw-b fl-l'):\n",
    "                urls.append([link.get('href')])\n",
    "            n_rows += 50\n",
    "\n",
    "        if (page.status_code == 404):\n",
    "            break\n",
    "\n",
    "        if (page.status_code == 403):\n",
    "            time.sleep(120)\n",
    "    \n",
    "    with open('./Datasets/anime-urls.csv', mode='a') as f:\n",
    "        url_writer = csv.writer(f, delimiter=',', quotechar=\"'\", quoting=csv.QUOTE_MINIMAL)\n",
    "        url_writer.writerows(urls)\n",
    "\n",
    "def fetch_all_urls(chars_list_=None):\n",
    "    if chars_list_==None:\n",
    "        chars_list_ = chars_list\n",
    "    \n",
    "    threads = min(MAX_THREADS, len(chars_list_))\n",
    "\n",
    "    with concurrent.futures.ThreadPoolExecutor( max_workers=threads ) as executor:\n",
    "        executor.map(fetch_urls, chars_list_)"
   ]
  },
  {
   "cell_type": "code",
   "execution_count": 4,
   "metadata": {},
   "outputs": [],
   "source": [
    "# Init base URL & headers for get()\n",
    "base_url = 'https://myanimelist.net/anime.php'\n",
    "headers = {\n",
    "    'Host': 'myanimelist.net',\n",
    "    'User-Agent': 'Mozilla/5.0 (Windows NT 10.0; Win64; x64; rv:94.0) Gecko/20100101 Firefox/94.0',\n",
    "    'Accept': 'text/html,application/xhtml+xml,application/xml;q=0.9,image/avif,image/webp,*/*;q=0.8',\n",
    "    'Accept-Language': 'en-US,en;q=0.5',\n",
    "    'Accept-Encoding': 'gzip, deflate, br',\n",
    "    'Referer': 'https://myanimelist.net/anime.php',\n",
    "    'Connection': 'keep-alive'\n",
    "}\n",
    "\n",
    "# Init max number of threads\n",
    "MAX_THREADS = 30\n",
    "\n",
    "# Init list of characters\n",
    "chars_list = ['.'] + list(string.ascii_uppercase)\n",
    "\n",
    "# Create an empty CSV to store URLs\n",
    "pd.DataFrame(list()).to_csv('./Datasets/anime-urls.csv')\n",
    "\n",
    "fetch_all_urls(chars_list)"
   ]
  }
 ],
 "metadata": {
  "interpreter": {
   "hash": "916dbcbb3f70747c44a77c7bcd40155683ae19c65e1c03b4aa3499c5328201f1"
  },
  "kernelspec": {
   "display_name": "Python 3.8.10 64-bit",
   "language": "python",
   "name": "python3"
  },
  "language_info": {
   "codemirror_mode": {
    "name": "ipython",
    "version": 3
   },
   "file_extension": ".py",
   "mimetype": "text/x-python",
   "name": "python",
   "nbconvert_exporter": "python",
   "pygments_lexer": "ipython3",
   "version": "3.8.10"
  },
  "orig_nbformat": 4
 },
 "nbformat": 4,
 "nbformat_minor": 2
}
